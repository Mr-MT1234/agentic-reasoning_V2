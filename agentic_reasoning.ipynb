{
 "cells": [
  {
   "cell_type": "code",
   "execution_count": 1,
   "metadata": {},
   "outputs": [],
   "source": [
    "from tavily import TavilyClient\n",
    "\n",
    "import os\n",
    "import pandas as pd\n",
    "import nest_asyncio\n"
   ]
  },
  {
   "cell_type": "code",
   "execution_count": null,
   "metadata": {},
   "outputs": [],
   "source": [
    "# This is a workaround for a bug in the nano_graphrag library\n",
    "nest_asyncio.apply()\n",
    "\n",
    "# Set the API key\n",
    "os.environ[\"OPENAI_API_KEY\"] = \"YOUR_OPENAI_API_KEY\"\n",
    "os.environ[\"TAVILY_API_KEY\"] = \"YOUR_TAVILY_API_KEY\"\n",
    "\n",
    "tavily_client = TavilyClient(api_key=os.environ[\"TAVILY_API_KEY\"])\n"
   ]
  },
  {
   "cell_type": "markdown",
   "metadata": {},
   "source": [
    "## Prepare data"
   ]
  },
  {
   "cell_type": "code",
   "execution_count": 5,
   "metadata": {},
   "outputs": [],
   "source": [
    "import pandas as pd\n",
    "\n",
    "train_df = pd.read_csv(\"data/train.csv\")\n",
    "test_df = pd.read_csv(\"data/test.csv\")\n",
    "\n",
    "filtered_data_train = []\n",
    "filtered_data_test = []\n",
    "\n",
    "for query in train_df[\"question\"]:\n",
    "    filtered_data_train.append({\"Question\": query})\n",
    "\n",
    "for query in test_df[\"question\"]:\n",
    "    filtered_data_test.append({\"Question\": query})\n",
    "\n",
    "filtered_data_train = filtered_data_train[:2]"
   ]
  },
  {
   "cell_type": "code",
   "execution_count": null,
   "metadata": {},
   "outputs": [
    {
     "name": "stderr",
     "output_type": "stream",
     "text": [
      "/Users/yulin/anaconda3/envs/agentic_reasoning/lib/python3.11/site-packages/tqdm/auto.py:21: TqdmWarning: IProgress not found. Please update jupyter and ipywidgets. See https://ipywidgets.readthedocs.io/en/stable/user_install.html\n",
      "  from .autonotebook import tqdm as notebook_tqdm\n",
      "None of PyTorch, TensorFlow >= 2.0, or Flax have been found. Models won't be available and only tokenizers, configuration and file/data utilities can be used.\n"
     ]
    }
   ],
   "source": [
    "from script.prompt_manager import prepare_input_prompts\n",
    "from script.initialize_tokenizer import initialize_tokenizer\n",
    "\n",
    "dataset_name = \"gpqa\" # the prompt used for the GPQA dataset in the paper code because it's a dataset of multiple choice questions too.\n",
    "\n",
    "tokenizer = initialize_tokenizer(model_name=\"gpt-4o\")\n",
    "\n",
    "# Prepare input prompts\n",
    "input_list_train, active_sequences_train = prepare_input_prompts(\n",
    "    filtered_data=filtered_data_train,\n",
    "    model_path=None,\n",
    "    dataset_name=dataset_name,\n",
    "    tokenizer=tokenizer,\n",
    ")\n",
    "\n",
    "input_list_test, active_sequences_test = prepare_input_prompts(\n",
    "    filtered_data=filtered_data_test,\n",
    "    model_path=None,\n",
    "    dataset_name=dataset_name,\n",
    "    tokenizer=tokenizer,\n",
    ")"
   ]
  },
  {
   "cell_type": "markdown",
   "metadata": {},
   "source": [
    "## Training data inference"
   ]
  },
  {
   "cell_type": "code",
   "execution_count": 7,
   "metadata": {},
   "outputs": [],
   "source": [
    "from config import  END_SEARCH_QUERY, END_CODE_QUERY\n",
    "\n",
    "\n",
    "model_args = {\n",
    "    \"stop_tokens\": [END_SEARCH_QUERY, END_CODE_QUERY, tokenizer.eos_token],\n",
    "    \"model\": \"gpt-4o\",\n",
    "    \"temperature\": 0.3,\n",
    "    \"top_p\": 0.95,\n",
    "    \"top_k\": 50,\n",
    "    \"frequency_penalty\": 0.3,\n",
    "}\n",
    "\n"
   ]
  },
  {
   "cell_type": "code",
   "execution_count": null,
   "metadata": {},
   "outputs": [],
   "source": [
    "from script.run_reasoning import run_reasoning \n",
    "\n",
    "\n",
    "accuracy_train = 0\n",
    "final_results_train_complete = []\n",
    "repetition = 5\n",
    "for i in range(repetition):\n",
    "    # Reset the finished flag for each sequence\n",
    "    for j in range(len(active_sequences_train)):\n",
    "        active_sequences_train[j]['finished'] = False \n",
    "    # Run reasoning\n",
    "    sequences_train = run_reasoning(filtered_data_train, active_sequences_train, forcing_research=True, code_mode_name=\"gpt-4o\", general_model_args=model_args, tokenizer=tokenizer, tavily_client=tavily_client)\n",
    "    final_results_train = [active_sequences_train[i]['final_result'] for i in range(len(active_sequences_train))]\n",
    "    print(f\"Final results: {final_results_train}\")\n",
    "    \n",
    "    accuracy_train += sum([1 for i in range(len(final_results_train)) if final_results_train[i] == train_df['answer'][i]])/len(final_results_train)\n",
    "    final_results_train_complete.append(final_results_train)\n",
    "    \n",
    "accuracy_train /= repetition\n",
    "print(f\"Accuracy on training set: {accuracy_train}\")\n",
    "    \n"
   ]
  },
  {
   "cell_type": "markdown",
   "metadata": {},
   "source": [
    "## Test data inference"
   ]
  },
  {
   "cell_type": "code",
   "execution_count": null,
   "metadata": {},
   "outputs": [],
   "source": [
    "from script.run_reasoning import run_reasoning \n",
    "\n",
    "\n",
    "final_results_test_complete = []\n",
    "repetition = 5\n",
    "for i in range(repetition):\n",
    "    for j in range(len(active_sequences_test)):\n",
    "        active_sequences_test[j]['finished'] = False \n",
    "    sequences_test = run_reasoning(filtered_data_test, active_sequences_test, forcing_research=True, code_mode_name=\"gpt-4o\", general_model_args=model_args, tokenizer=tokenizer, tavily_client=tavily_client)\n",
    "    final_results_test = [active_sequences_test[i]['final_result'] for i in range(len(active_sequences_test))]\n",
    "    print(f\"Final results: {final_results_test}\")\n",
    "    final_results_test_complete.append(final_results_test)\n",
    "    \n",
    "    \n",
    "print(\"final_results_test_complete\", final_results_test_complete)"
   ]
  },
  {
   "cell_type": "code",
   "execution_count": null,
   "metadata": {},
   "outputs": [],
   "source": [
    "import numpy as np\n",
    "import csv\n",
    "\n",
    "final_results_test_complete = np.array(final_results_test_complete).T.tolist()\n",
    "\n",
    "\n",
    "def save_predictions_to_csv(predictions_list, filename):\n",
    "    \"\"\"Save formatted predictions to CSV.\"\"\"\n",
    "    header = [\"question_id\"] + [f\"prediction_{i+1}\" for i in range(5)]\n",
    "    \n",
    "    with open(filename, mode=\"w\", newline=\"\") as file:\n",
    "        writer = csv.writer(file)\n",
    "        writer.writerow(header)  \n",
    "        for i, predictions in enumerate(predictions_list, start=1):\n",
    "            writer.writerow([i] + predictions)\n",
    "\n",
    "# Save the formatted predictions\n",
    "save_predictions_to_csv(final_results_test_complete, filename=\"./output/predictions_test.csv\")\n"
   ]
  }
 ],
 "metadata": {
  "kernelspec": {
   "display_name": "agentic_reasoning",
   "language": "python",
   "name": "python3"
  },
  "language_info": {
   "codemirror_mode": {
    "name": "ipython",
    "version": 3
   },
   "file_extension": ".py",
   "mimetype": "text/x-python",
   "name": "python",
   "nbconvert_exporter": "python",
   "pygments_lexer": "ipython3",
   "version": "3.11.11"
  }
 },
 "nbformat": 4,
 "nbformat_minor": 2
}
