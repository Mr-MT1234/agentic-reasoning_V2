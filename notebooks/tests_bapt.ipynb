{
 "cells": [
  {
   "cell_type": "code",
   "execution_count": null,
   "metadata": {},
   "outputs": [
    {
     "data": {
      "text/plain": [
       "True"
      ]
     },
     "execution_count": 1,
     "metadata": {},
     "output_type": "execute_result"
    }
   ],
   "source": [
    "import sys\n",
    "\n",
    "sys.path.append(\"../\")\n",
    "\n",
    "from dotenv import load_dotenv\n",
    "load_dotenv(\"../.env\", override=True)"
   ]
  },
  {
   "cell_type": "code",
   "execution_count": 1,
   "metadata": {},
   "outputs": [
    {
     "name": "stderr",
     "output_type": "stream",
     "text": [
      "/Users/yulin/anaconda3/envs/agentic_reasoning1/lib/python3.11/site-packages/pydantic/_internal/_config.py:341: UserWarning: Valid config keys have changed in V2:\n",
      "* 'fields' has been removed\n",
      "  warnings.warn(message, UserWarning)\n"
     ]
    }
   ],
   "source": [
    "from sou.models.generation_model import Model"
   ]
  },
  {
   "cell_type": "code",
   "execution_count": 2,
   "metadata": {},
   "outputs": [],
   "source": [
    "model = Model(model_name=\"groq/llama3-70b-8192\")"
   ]
  },
  {
   "cell_type": "code",
   "execution_count": 3,
   "metadata": {},
   "outputs": [
    {
     "name": "stdout",
     "output_type": "stream",
     "text": [
      "\n"
     ]
    }
   ],
   "source": [
    "messages = [\n",
    "    {\n",
    "        \"role\": \"user\",\n",
    "        \"content\": \"I'm looking for a restaurant in the center of town. make some reasoning suggestions in <think></think>.\",\n",
    "    },\n",
    "]\n",
    "\n",
    "print(model.generate_response(messages, stop_tokens=[\"\"]))"
   ]
  },
  {
   "cell_type": "code",
   "execution_count": 4,
   "metadata": {},
   "outputs": [],
   "source": [
    "from sou.agents.search_agent import SearchAgent\n",
    "from tavily import TavilyClient\n",
    "import os\n",
    "tavily_client = TavilyClient(os.getenv(\"TAVILY_API_KEY\"))\n",
    "searchAgent = SearchAgent(tavily_client=tavily_client)"
   ]
  },
  {
   "cell_type": "code",
   "execution_count": 5,
   "metadata": {},
   "outputs": [],
   "source": [
    "query = \"\"\"\n",
    "In general, reliability testing is performed for which of the following reasons?I. To detect unanticipated failure modes.II. To compare estimated failure rates to actual failure rates.III. To monitor reliability growth over time.IV. To meet or exceed customer expectations.\n",
    "\n",
    "\"\"\""
   ]
  },
  {
   "cell_type": "code",
   "execution_count": 6,
   "metadata": {},
   "outputs": [
    {
     "name": "stderr",
     "output_type": "stream",
     "text": [
      "\u001b[92m14:36:29 - LiteLLM:INFO\u001b[0m: utils.py:2894 - \n",
      "LiteLLM completion() model= llama3-70b-8192; provider = groq\n",
      "INFO:LiteLLM:\n",
      "LiteLLM completion() model= llama3-70b-8192; provider = groq\n"
     ]
    },
    {
     "name": "stdout",
     "output_type": "stream",
     "text": [
      "[SearchAgent] Planning: \n",
      "        You are a highly skilled online researcher. Your task is to develop a clear, structured, and efficient search plan to gather accurate and relevant information from the internet. Do not provide the final answers—only design a search strategy. \n",
      "        Query: \"\n",
      "In general, reliability testing is performed for which of the following reasons?I. To detect unanticipated failure modes.II. To compare estimated failure rates to actual failure rates.III. To monitor reliability growth over time.IV. To meet or exceed customer expectations.\n",
      "\n",
      "\"\n",
      "\n",
      "        Guidelines & Constraints:\n",
      "\n",
      "        Limit the total number of subtopics or search items to 6.\n",
      "\n",
      "        Break down the query into logical subtopics or key questions to guide the search.\n",
      "        \n",
      "        For each subtopic, include:\n",
      "\n",
      "        Primary search terms or exact phrases likely to yield quality results.\n",
      "\n",
      "        Format your output as follows:\n",
      "\n",
      "        [Subtopic 1]: [Exact phrase or keyword]\n",
      "        [Subtopic 2]: [Exact phrase or keyword]\n",
      "        ...\n",
      "\n",
      "        Your goal is to maximize search relevance and coverage while keeping the plan concise and targeted. \n",
      "        \n",
      "=================\n"
     ]
    },
    {
     "name": "stderr",
     "output_type": "stream",
     "text": [
      "INFO:httpx:HTTP Request: POST https://api.groq.com/openai/v1/chat/completions \"HTTP/1.1 200 OK\"\n",
      "\u001b[92m14:36:31 - LiteLLM:INFO\u001b[0m: utils.py:1084 - Wrapper: Completed Call, calling success_handler\n",
      "INFO:LiteLLM:Wrapper: Completed Call, calling success_handler\n"
     ]
    },
    {
     "name": "stdout",
     "output_type": "stream",
     "text": [
      "[SearchAgent] Planning: Here is a structured search plan to gather accurate and relevant information on the reasons for performing reliability testing:\n",
      "\n",
      "[Subtopic 1: Purpose of detecting unanticipated failure modes]: \"reliability testing for unanticipated failure modes\" OR \"uncovering hidden failure modes through reliability testing\"\n",
      "\n",
      "[Subtopic 2: Comparing estimated and actual failure rates]: \"reliability testing for failure rate validation\" OR \"comparing predicted and actual failure rates in reliability testing\"\n",
      "\n",
      "[Subtopic 3: Monitoring reliability growth over time]: \"reliability growth monitoring\" OR \"tracking reliability improvement through testing\"\n",
      "\n",
      "[Subtopic 4: Meeting or exceeding customer expectations]: \"reliability testing for customer satisfaction\" OR \"ensuring customer expectations through reliability testing\"\n",
      "\n",
      "[Subtopic 5: Overview of reliability testing purposes]: \"purposes of reliability testing\" OR \"why is reliability testing performed\"\n",
      "\n",
      "[Subtopic 6: Industry-specific reliability testing goals]: \"reliability testing goals in [industry/sector]\" (e.g., \"reliability testing goals in aerospace\" or \"reliability testing goals in automotive\")\n",
      "\n",
      "This search plan covers the four options provided in the query and adds two additional subtopics to provide a broader understanding of reliability testing purposes and industry-specific goals. The primary search terms and exact phrases are designed to yield quality results from relevant sources, including academic papers, industry reports, and reputable websites.\n"
     ]
    }
   ],
   "source": [
    "searchAgent.deep_search(query, model)"
   ]
  },
  {
   "cell_type": "code",
   "execution_count": 24,
   "metadata": {},
   "outputs": [
    {
     "name": "stdout",
     "output_type": "stream",
     "text": [
      "Purpose of detecting unanticipated failure modes:\n",
      "  ['reliability testing for unanticipated failure modes', 'uncovering hidden failure modes through reliability testing']\n",
      "\n",
      "Comparing estimated and actual failure rates:\n",
      "  ['reliability testing for failure rate validation', 'comparing predicted and actual failure rates in reliability testing']\n",
      "\n",
      "Monitoring reliability growth over time:\n",
      "  ['reliability growth monitoring', 'tracking reliability improvement through testing']\n",
      "\n",
      "Meeting or exceeding customer expectations:\n",
      "  ['reliability testing for customer satisfaction', 'ensuring customer expectations through reliability testing']\n",
      "\n",
      "Overview of reliability testing purposes:\n",
      "  ['purposes of reliability testing', 'why is reliability testing performed']\n",
      "\n",
      "Industry-specific reliability testing goals:\n",
      "  ['reliability testing goals in [industry/sector]', 'reliability testing goals in aerospace', 'reliability testing goals in automotive']\n",
      "\n"
     ]
    }
   ],
   "source": [
    "import re\n",
    "\n",
    "text = \"\"\"\n",
    "Here is a structured search plan to gather accurate and relevant information on the reasons for performing reliability testing:\n",
    "\n",
    "[Subtopic 1: Purpose of detecting unanticipated failure modes]: \"reliability testing for unanticipated failure modes\" OR \"uncovering hidden failure modes through reliability testing\"\n",
    "\n",
    "[Subtopic 2: Comparing estimated and actual failure rates]: \"reliability testing for failure rate validation\" OR \"comparing predicted and actual failure rates in reliability testing\"\n",
    "\n",
    "[Subtopic 3: Monitoring reliability growth over time]: \"reliability growth monitoring\" OR \"tracking reliability improvement through testing\"\n",
    "\n",
    "[Subtopic 4: Meeting or exceeding customer expectations]: \"reliability testing for customer satisfaction\" OR \"ensuring customer expectations through reliability testing\"\n",
    "\n",
    "[Subtopic 5: Overview of reliability testing purposes]: \"purposes of reliability testing\" OR \"why is reliability testing performed\"\n",
    "\n",
    "[Subtopic 6: Industry-specific reliability testing goals]: \"reliability testing goals in [industry/sector]\" (e.g., \"reliability testing goals in aerospace\" or \"reliability testing goals in automotive\")\n",
    "\n",
    "This search plan covers the four options provided in the query and adds two additional subtopics to provide a broader understanding of reliability testing purposes and industry-specific goals. The primary search terms and exact phrases are designed to yield quality results from relevant sources, including academic papers, industry reports, and reputable websites.\n",
    "\"\"\"\n",
    "\n",
    "# Pattern to match each subtopic and its phrases\n",
    "pattern = r'\\[Subtopic \\d+: (.*?)\\]:\\s*((?:(?!\\[Subtopic).)+)'\n",
    "\n",
    "\n",
    "# Find all matches\n",
    "matches = re.findall(pattern, text)\n",
    "\n",
    "# Create dictionary\n",
    "search_plan = {}\n",
    "for subtopic, phrases_str in matches:\n",
    "    phrases = re.findall(r'\"(.*?)\"', phrases_str)\n",
    "    search_plan[subtopic.strip()] = phrases\n",
    "\n",
    "# Example output\n",
    "for key, value in search_plan.items():\n",
    "    print(f\"{key}:\\n  {value}\\n\")\n"
   ]
  },
  {
   "cell_type": "code",
   "execution_count": 25,
   "metadata": {},
   "outputs": [
    {
     "name": "stdout",
     "output_type": "stream",
     "text": [
      "['reliability testing for unanticipated failure modes', 'reliability testing for failure rate validation', 'reliability growth monitoring', 'reliability testing for customer satisfaction', 'purposes of reliability testing', 'reliability testing goals in [industry/sector]']\n"
     ]
    }
   ],
   "source": [
    "first_elements = [values[0] for key, values in search_plan.items()]\n",
    "print(first_elements)"
   ]
  },
  {
   "cell_type": "code",
   "execution_count": 1,
   "metadata": {},
   "outputs": [
    {
     "name": "stderr",
     "output_type": "stream",
     "text": [
      "INFO:nano-graphrag:Creating working directory ./nano_graphrag_cache_2025-03-21-16:24:59\n",
      "INFO:nano-graphrag:Load KV full_docs with 0 data\n",
      "INFO:nano-graphrag:Load KV text_chunks with 0 data\n",
      "INFO:nano-graphrag:Load KV llm_response_cache with 0 data\n",
      "INFO:nano-graphrag:Load KV community_reports with 0 data\n",
      "INFO:nano-vectordb:Init {'embedding_dim': 1536, 'metric': 'cosine', 'storage_file': './nano_graphrag_cache_2025-03-21-16:24:59/vdb_entities.json'} 0 data\n"
     ]
    }
   ],
   "source": [
    "from sou.agents.graphrag_agent import GraphRAGAgent\n",
    "rag_agent = GraphRAGAgent()"
   ]
  },
  {
   "cell_type": "code",
   "execution_count": null,
   "metadata": {},
   "outputs": [],
   "source": []
  }
 ],
 "metadata": {
  "kernelspec": {
   "display_name": "agentic_reasoning1",
   "language": "python",
   "name": "python3"
  },
  "language_info": {
   "codemirror_mode": {
    "name": "ipython",
    "version": 3
   },
   "file_extension": ".py",
   "mimetype": "text/x-python",
   "name": "python",
   "nbconvert_exporter": "python",
   "pygments_lexer": "ipython3",
   "version": "3.11.10"
  }
 },
 "nbformat": 4,
 "nbformat_minor": 2
}
