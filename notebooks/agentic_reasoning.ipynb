{
 "cells": [
  {
   "cell_type": "code",
   "execution_count": 2,
   "metadata": {},
   "outputs": [],
   "source": [
    "%load_ext autoreload\n",
    "%autoreload 2"
   ]
  },
  {
   "cell_type": "code",
   "execution_count": 3,
   "metadata": {},
   "outputs": [],
   "source": [
    "from tavily import TavilyClient\n",
    "\n",
    "import os\n",
    "import pandas as pd\n",
    "import nest_asyncio\n",
    "from dotenv import load_dotenv\n"
   ]
  },
  {
   "cell_type": "code",
   "execution_count": 4,
   "metadata": {},
   "outputs": [],
   "source": [
    "# This is a workaround for a bug in the nano_graphrag library\n",
    "nest_asyncio.apply()\n",
    "\n",
    "load_dotenv(dotenv_path=\".env\")\n",
    "\n",
    "# Set the API key\n",
    "\n",
    "tavily_client = TavilyClient(api_key=os.environ[\"TAVILY_API_KEY\"])\n"
   ]
  },
  {
   "cell_type": "markdown",
   "metadata": {},
   "source": [
    "## Prepare data"
   ]
  },
  {
   "cell_type": "code",
   "execution_count": 4,
   "metadata": {},
   "outputs": [],
   "source": [
    "import pandas as pd\n",
    "\n",
    "train_df = pd.read_csv(\"data/train.csv\")\n",
    "test_df = pd.read_csv(\"data/test.csv\")\n",
    "\n",
    "filtered_data_train = []\n",
    "filtered_data_test = []\n",
    "\n",
    "for query in train_df[\"question\"]:\n",
    "    filtered_data_train.append({\"Question\": query})\n",
    "\n",
    "for query in test_df[\"question\"]:\n",
    "    filtered_data_test.append({\"Question\": query})\n",
    "\n",
    "filtered_data_train = filtered_data_train[:2]"
   ]
  },
  {
   "cell_type": "code",
   "execution_count": 1,
   "metadata": {},
   "outputs": [
    {
     "ename": "ModuleNotFoundError",
     "evalue": "No module named 'prompt'",
     "output_type": "error",
     "traceback": [
      "\u001b[31m---------------------------------------------------------------------------\u001b[39m",
      "\u001b[31mModuleNotFoundError\u001b[39m                       Traceback (most recent call last)",
      "\u001b[36mCell\u001b[39m\u001b[36m \u001b[39m\u001b[32mIn[1]\u001b[39m\u001b[32m, line 1\u001b[39m\n\u001b[32m----> \u001b[39m\u001b[32m1\u001b[39m \u001b[38;5;28;01mfrom\u001b[39;00m\u001b[38;5;250m \u001b[39m\u001b[34;01msou\u001b[39;00m\u001b[34;01m.\u001b[39;00m\u001b[34;01mprompt\u001b[39;00m\u001b[34;01m.\u001b[39;00m\u001b[34;01mprompt_manager\u001b[39;00m\u001b[38;5;250m \u001b[39m\u001b[38;5;28;01mimport\u001b[39;00m prepare_input_prompts\n\u001b[32m      3\u001b[39m dataset_name = \u001b[33m\"\u001b[39m\u001b[33mgpqa\u001b[39m\u001b[33m\"\u001b[39m  \u001b[38;5;66;03m# the prompt used for the GPQA dataset in the paper code because it's a dataset of multiple choice questions too.\u001b[39;00m\n\u001b[32m      5\u001b[39m \u001b[38;5;66;03m# Prepare input prompts\u001b[39;00m\n",
      "\u001b[36mFile \u001b[39m\u001b[32m~/Documents/agentic-reasoning_V2/sou/prompt/prompt_manager.py:2\u001b[39m\n\u001b[32m      1\u001b[39m \u001b[38;5;28;01mfrom\u001b[39;00m\u001b[38;5;250m \u001b[39m\u001b[34;01mtyping\u001b[39;00m\u001b[38;5;250m \u001b[39m\u001b[38;5;28;01mimport\u001b[39;00m List, Dict, Any\n\u001b[32m----> \u001b[39m\u001b[32m2\u001b[39m \u001b[38;5;28;01mfrom\u001b[39;00m\u001b[38;5;250m \u001b[39m\u001b[34;01mprompt\u001b[39;00m\u001b[34;01m.\u001b[39;00m\u001b[34;01mprompts\u001b[39;00m\u001b[38;5;250m \u001b[39m\u001b[38;5;28;01mimport\u001b[39;00m (\n\u001b[32m      3\u001b[39m     get_singleqa_search_o1_instruction,\n\u001b[32m      4\u001b[39m     get_multiqa_search_o1_instruction,\n\u001b[32m      5\u001b[39m     get_math_search_o1_instruction,\n\u001b[32m      6\u001b[39m     get_hard_question_instruction,\n\u001b[32m      7\u001b[39m     get_code_search_o1_instruction,\n\u001b[32m      8\u001b[39m     get_task_instruction_openqa,\n\u001b[32m      9\u001b[39m     get_task_instruction_math,\n\u001b[32m     10\u001b[39m     get_task_instruction_multi_choice,\n\u001b[32m     11\u001b[39m     get_task_instruction_code,\n\u001b[32m     12\u001b[39m )\n\u001b[32m     15\u001b[39m \u001b[38;5;28;01mdef\u001b[39;00m\u001b[38;5;250m \u001b[39m\u001b[34mget_instruction_and_prompt\u001b[39m(\n\u001b[32m     16\u001b[39m     dataset_name: \u001b[38;5;28mstr\u001b[39m,\n\u001b[32m     17\u001b[39m     question: \u001b[38;5;28mstr\u001b[39m,\n\u001b[32m   (...)\u001b[39m\u001b[32m     20\u001b[39m     question_title: \u001b[38;5;28mstr\u001b[39m = \u001b[38;5;28;01mNone\u001b[39;00m,\n\u001b[32m     21\u001b[39m ) -> \u001b[38;5;28mtuple\u001b[39m[\u001b[38;5;28mstr\u001b[39m, \u001b[38;5;28mstr\u001b[39m]:\n\u001b[32m     22\u001b[39m \u001b[38;5;250m    \u001b[39m\u001b[33;03m\"\"\"\u001b[39;00m\n\u001b[32m     23\u001b[39m \u001b[33;03m    Get the appropriate instruction and user prompt based on dataset and model.\u001b[39;00m\n\u001b[32m     24\u001b[39m \n\u001b[32m   (...)\u001b[39m\u001b[32m     33\u001b[39m \u001b[33;03m        tuple[str, str]: (instruction, user_prompt)\u001b[39;00m\n\u001b[32m     34\u001b[39m \u001b[33;03m    \"\"\"\u001b[39;00m\n",
      "\u001b[31mModuleNotFoundError\u001b[39m: No module named 'prompt'"
     ]
    }
   ],
   "source": [
    "from sou.prompt.prompt_manager import prepare_input_prompts\n",
    "\n",
    "dataset_name = \"gpqa\"  # the prompt used for the GPQA dataset in the paper code because it's a dataset of multiple choice questions too.\n",
    "\n",
    "# Prepare input prompts\n",
    "input_list_train, active_sequences_train = prepare_input_prompts(\n",
    "    filtered_data=filtered_data_train,\n",
    "    model_path=None,\n",
    "    dataset_name=dataset_name,\n",
    ")\n",
    "\n",
    "input_list_test, active_sequences_test = prepare_input_prompts(\n",
    "    filtered_data=filtered_data_test,\n",
    "    model_path=None,\n",
    "    dataset_name=dataset_name,\n",
    ")"
   ]
  },
  {
   "cell_type": "markdown",
   "metadata": {},
   "source": [
    "## Training data inference"
   ]
  },
  {
   "cell_type": "code",
   "execution_count": null,
   "metadata": {},
   "outputs": [],
   "source": [
    "from config import END_SEARCH_QUERY, END_CODE_QUERY\n",
    "\n",
    "\n",
    "model_args = {\n",
    "    \"stop_tokens\": [END_SEARCH_QUERY, END_CODE_QUERY],\n",
    "    \"model\": \"gpt-4o\",\n",
    "    \"temperature\": 0.3,\n",
    "    \"top_p\": 0.95,\n",
    "    \"top_k\": 50,\n",
    "    \"frequency_penalty\": 0.3,\n",
    "}\n"
   ]
  },
  {
   "cell_type": "code",
   "execution_count": null,
   "metadata": {},
   "outputs": [],
   "source": [
    "from sou.reasoning.run_reasoning import run_reasoning\n",
    "\n",
    "\n",
    "accuracy_train = 0\n",
    "final_results_train_complete = []\n",
    "repetition = 5\n",
    "for i in range(repetition):\n",
    "    # Reset the finished flag for each sequence\n",
    "    for j in range(len(active_sequences_train)):\n",
    "        active_sequences_train[j][\"finished\"] = False\n",
    "    # Run reasoning\n",
    "    sequences_train = run_reasoning(\n",
    "        filtered_data_train,\n",
    "        active_sequences_train,\n",
    "        forcing_research=True,\n",
    "        code_mode_name=\"gpt-4o\",\n",
    "        general_model_args=model_args,\n",
    "        tokenizer=tokenizer,\n",
    "        tavily_client=tavily_client,\n",
    "    )\n",
    "    final_results_train = [\n",
    "        active_sequences_train[i][\"final_result\"]\n",
    "        for i in range(len(active_sequences_train))\n",
    "    ]\n",
    "    print(f\"Final results: {final_results_train}\")\n",
    "\n",
    "    accuracy_train += sum(\n",
    "        [\n",
    "            1\n",
    "            for i in range(len(final_results_train))\n",
    "            if final_results_train[i] == train_df[\"answer\"][i]\n",
    "        ]\n",
    "    ) / len(final_results_train)\n",
    "    final_results_train_complete.append(final_results_train)\n",
    "\n",
    "accuracy_train /= repetition\n",
    "print(f\"Accuracy on training set: {accuracy_train}\")\n"
   ]
  },
  {
   "cell_type": "markdown",
   "metadata": {},
   "source": [
    "## Test data inference"
   ]
  },
  {
   "cell_type": "code",
   "execution_count": null,
   "metadata": {},
   "outputs": [],
   "source": [
    "from sou.reasoning.run_reasoning import run_reasoning\n",
    "\n",
    "\n",
    "final_results_test_complete = []\n",
    "repetition = 5\n",
    "for i in range(repetition):\n",
    "    for j in range(len(active_sequences_test)):\n",
    "        active_sequences_test[j][\"finished\"] = False\n",
    "    sequences_test = run_reasoning(\n",
    "        filtered_data_test,\n",
    "        active_sequences_test,\n",
    "        forcing_research=True,\n",
    "        code_mode_name=\"gpt-4o\",\n",
    "        general_model_args=model_args,\n",
    "        tokenizer=tokenizer,\n",
    "        tavily_client=tavily_client,\n",
    "    )\n",
    "    final_results_test = [\n",
    "        active_sequences_test[i][\"final_result\"]\n",
    "        for i in range(len(active_sequences_test))\n",
    "    ]\n",
    "    print(f\"Final results: {final_results_test}\")\n",
    "    final_results_test_complete.append(final_results_test)\n",
    "\n",
    "\n",
    "print(\"final_results_test_complete\", final_results_test_complete)"
   ]
  },
  {
   "cell_type": "code",
   "execution_count": null,
   "metadata": {},
   "outputs": [],
   "source": [
    "import numpy as np\n",
    "import csv\n",
    "\n",
    "final_results_test_complete = np.array(final_results_test_complete).T.tolist()\n",
    "\n",
    "\n",
    "def save_predictions_to_csv(predictions_list, filename):\n",
    "    \"\"\"Save formatted predictions to CSV.\"\"\"\n",
    "    header = [\"question_id\"] + [f\"prediction_{i + 1}\" for i in range(5)]\n",
    "\n",
    "    with open(filename, mode=\"w\", newline=\"\") as file:\n",
    "        writer = csv.writer(file)\n",
    "        writer.writerow(header)\n",
    "        for i, predictions in enumerate(predictions_list, start=1):\n",
    "            writer.writerow([i] + predictions)\n",
    "\n",
    "\n",
    "# Save the formatted predictions\n",
    "save_predictions_to_csv(\n",
    "    final_results_test_complete, filename=\"./output/predictions_test.csv\"\n",
    ")\n"
   ]
  }
 ],
 "metadata": {
  "kernelspec": {
   "display_name": "agentic_reasoning_v2",
   "language": "python",
   "name": "python3"
  },
  "language_info": {
   "codemirror_mode": {
    "name": "ipython",
    "version": 3
   },
   "file_extension": ".py",
   "mimetype": "text/x-python",
   "name": "python",
   "nbconvert_exporter": "python",
   "pygments_lexer": "ipython3",
   "version": "3.12.2"
  }
 },
 "nbformat": 4,
 "nbformat_minor": 2
}
